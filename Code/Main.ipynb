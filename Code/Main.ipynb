{
 "cells": [
  {
   "cell_type": "markdown",
   "metadata": {},
   "source": [
    "### Data Preprocessing"
   ]
  },
  {
   "cell_type": "markdown",
   "metadata": {},
   "source": [
    "The line of code below imports the necessary functions from the `PreprocessingFunctions.py` file."
   ]
  },
  {
   "cell_type": "code",
   "execution_count": 1,
   "metadata": {},
   "outputs": [],
   "source": [
    "from PreprocessingFunctions import *"
   ]
  },
  {
   "cell_type": "code",
   "execution_count": 2,
   "metadata": {},
   "outputs": [],
   "source": [
    "# change to the path to the location of this folder\n",
    "# example of how to do so with my computer\n",
    "os.chdir('/Users/francescofabozzi/Desktop/ARP-Final/')"
   ]
  },
  {
   "cell_type": "markdown",
   "metadata": {},
   "source": [
    "Now that the functions are loaded, the function `Preprocessing` takes three four arguments:\n",
    "\n",
    "1. __file_path_metadata__: File path to metadata (this takes the raw excel files that you have sent me)\n",
    "2. __file_path_prices__: File path to investable prices (same as above)\n",
    "3. __flat_thresh__: The quantile threshold for determining flat fillings.\n",
    "4. __redun_thresh__: The correlation threshold for determining redundancies."
   ]
  },
  {
   "cell_type": "markdown",
   "metadata": {},
   "source": [
    "By running this function, the entire output fill be contained within the `data` object assigned below."
   ]
  },
  {
   "cell_type": "code",
   "execution_count": 3,
   "metadata": {},
   "outputs": [],
   "source": [
    "# running this will go through the entire preprocessing process\n",
    "# this will take a few minutes\n",
    "data = Preprocessing(file_path_metadata='Data/Metadata.xlsx', \n",
    "                    file_path_prices='Data/Prices.xlsx',\n",
    "                    flat_thresh= 0.90,\n",
    "                    redun_thresh=0.90)"
   ]
  },
  {
   "cell_type": "markdown",
   "metadata": {},
   "source": [
    "Once the function above is done running. You can run the `save_output` function in order to save the output files in the output folder."
   ]
  },
  {
   "cell_type": "code",
   "execution_count": 8,
   "metadata": {},
   "outputs": [
    {
     "data": {
      "text/plain": [
       "'Files saved in Output Folder'"
      ]
     },
     "execution_count": 8,
     "metadata": {},
     "output_type": "execute_result"
    }
   ],
   "source": [
    "save_output(data)"
   ]
  }
 ],
 "metadata": {
  "kernelspec": {
   "display_name": "Python 3",
   "language": "python",
   "name": "python3"
  },
  "language_info": {
   "codemirror_mode": {
    "name": "ipython",
    "version": 3
   },
   "file_extension": ".py",
   "mimetype": "text/x-python",
   "name": "python",
   "nbconvert_exporter": "python",
   "pygments_lexer": "ipython3",
   "version": "3.7.3"
  }
 },
 "nbformat": 4,
 "nbformat_minor": 4
}
